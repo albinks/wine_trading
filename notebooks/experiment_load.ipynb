{
 "cells": [
  {
   "cell_type": "code",
   "execution_count": 1,
   "metadata": {
    "collapsed": false
   },
   "outputs": [],
   "source": [
    "import quandl\n",
    "import datetime\n",
    "import forecastio\n",
    "import pandas as pd\n",
    "raw_bdx_historical = quandl.get(\"LIVEX/LVX_BDX_500\")"
   ]
  },
  {
   "cell_type": "code",
   "execution_count": 6,
   "metadata": {
    "collapsed": true
   },
   "outputs": [],
   "source": [
    "lat = 44.842532\n",
    "lng = -0.579620\n",
    "api_key = \"98244679308c5f909be9ce27ecddc84d\"\n",
    "date = datetime.datetime(2015,5,1)\n",
    "forecast = forecastio.load_forecast(api_key, lat, lng, time=date, units=\"ca\")"
   ]
  },
  {
   "cell_type": "code",
   "execution_count": 8,
   "metadata": {
    "collapsed": false
   },
   "outputs": [
    {
     "data": {
      "text/plain": [
       "{u'apparentTemperature': 15.17,\n",
       " u'cloudCover': 0.17,\n",
       " u'dewPoint': 12.47,\n",
       " u'humidity': 0.84,\n",
       " u'icon': u'rain',\n",
       " u'precipIntensity': 0.3861,\n",
       " u'precipProbability': 0.58,\n",
       " u'precipType': u'rain',\n",
       " u'pressure': 1012.84,\n",
       " u'summary': u'Light Rain',\n",
       " u'temperature': 15.17,\n",
       " u'time': 1430434800,\n",
       " u'visibility': 10.54,\n",
       " u'windBearing': 148,\n",
       " u'windSpeed': 8.08}"
      ]
     },
     "execution_count": 8,
     "metadata": {},
     "output_type": "execute_result"
    }
   ],
   "source": [
    "hourly = forecast.hourly()\n",
    "hourly.data[1].d"
   ]
  },
  {
   "cell_type": "code",
   "execution_count": null,
   "metadata": {
    "collapsed": true
   },
   "outputs": [],
   "source": []
  }
 ],
 "metadata": {
  "anaconda-cloud": {},
  "kernelspec": {
   "display_name": "Python [py27]",
   "language": "python",
   "name": "Python [py27]"
  },
  "language_info": {
   "codemirror_mode": {
    "name": "ipython",
    "version": 2
   },
   "file_extension": ".py",
   "mimetype": "text/x-python",
   "name": "python",
   "nbconvert_exporter": "python",
   "pygments_lexer": "ipython2",
   "version": "2.7.12"
  }
 },
 "nbformat": 4,
 "nbformat_minor": 0
}
